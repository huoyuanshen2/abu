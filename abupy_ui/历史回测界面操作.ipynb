{
 "cells": [
  {
   "cell_type": "code",
   "execution_count": 2,
   "metadata": {
    "scrolled": false
   },
   "outputs": [
    {
     "data": {
      "application/vnd.jupyter.widget-view+json": {
       "model_id": "1f85958ce192454680d384d31ce33b61",
       "version_major": 2,
       "version_minor": 0
      },
      "text/plain": [
       "VBox(children=(Tab(children=(VBox(children=(BoundedIntText(value=1000000, description='初始资金:', max=999999999, …"
      ]
     },
     "metadata": {},
     "output_type": "display_data"
    },
    {
     "name": "stderr",
     "output_type": "stream",
     "text": [
      "提示\n",
      "没有添加任何一个买入策略！\n",
      "argument for 's' must be a bytes object\n",
      "Traceback (most recent call last):\n",
      "  File \"D:\\abu\\abupy\\UtilBu\\ABuDTUtil.py\", line 164, in wrapper\n",
      "    return func(*args, **kwargs)\n",
      "  File \"D:\\abu\\abupy\\UtilBu\\ABuOsUtil.py\", line 33, in show_msg\n",
      "    do_show_msg(title, msg)\n",
      "  File \"D:\\abu\\abupy\\UtilBu\\ABuWinUtil.py\", line 39, in show_msg\n",
      "    MainWindow(to_native_str(title), to_native_str(msg))\n",
      "  File \"D:\\abu\\abupy\\UtilBu\\ABuWinUtil.py\", line 198, in __init__\n",
      "    self.show_balloon(title, msg)\n",
      "  File \"D:\\abu\\abupy\\UtilBu\\ABuWinUtil.py\", line 215, in show_balloon\n",
      "    shell_notify_icon(NIM_MODIFY, nid.pack())\n",
      "  File \"D:\\abu\\abupy\\UtilBu\\ABuWinUtil.py\", line 161, in pack\n",
      "    self.dwInfoFlags)\n",
      "struct.error: argument for 's' must be a bytes object\n"
     ]
    }
   ],
   "source": [
    "%matplotlib inline\n",
    "import widget_loop_back\n",
    "widget_loop_back.show_ui()"
   ]
  },
  {
   "cell_type": "code",
   "execution_count": null,
   "metadata": {},
   "outputs": [],
   "source": []
  }
 ],
 "metadata": {
  "kernelspec": {
   "display_name": "Python 3",
   "language": "python",
   "name": "python3"
  },
  "language_info": {
   "codemirror_mode": {
    "name": "ipython",
    "version": 3
   },
   "file_extension": ".py",
   "mimetype": "text/x-python",
   "name": "python",
   "nbconvert_exporter": "python",
   "pygments_lexer": "ipython3",
   "version": "3.7.4"
  }
 },
 "nbformat": 4,
 "nbformat_minor": 2
}

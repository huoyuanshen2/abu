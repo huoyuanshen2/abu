{
 "cells": [
  {
   "cell_type": "code",
   "execution_count": 3,
   "metadata": {},
   "outputs": [
    {
     "data": {
      "text/plain": [
       "VBox(children=(Textarea(value='非沙盒数据，特别是回测交易多的情况下，比如全市场测试，回测前需要先将数据进行更新。\\n建议直接从云盘下载入库完毕的数据库，不需要从各个数据源再一个一个的下载数…"
      ]
     },
     "metadata": {},
     "output_type": "display_data"
    },
    {
     "name": "stderr",
     "output_type": "stream",
     "text": [
      "提示\n",
      "提取密码: gvtr\n",
      "argument for 's' must be a bytes object\n",
      "Traceback (most recent call last):\n",
      "  File \"D:\\abu\\abupy\\UtilBu\\ABuDTUtil.py\", line 164, in wrapper\n",
      "    return func(*args, **kwargs)\n",
      "  File \"D:\\abu\\abupy\\UtilBu\\ABuOsUtil.py\", line 33, in show_msg\n",
      "    do_show_msg(title, msg)\n",
      "  File \"D:\\abu\\abupy\\UtilBu\\ABuWinUtil.py\", line 39, in show_msg\n",
      "    MainWindow(to_native_str(title), to_native_str(msg))\n",
      "  File \"D:\\abu\\abupy\\UtilBu\\ABuWinUtil.py\", line 198, in __init__\n",
      "    self.show_balloon(title, msg)\n",
      "  File \"D:\\abu\\abupy\\UtilBu\\ABuWinUtil.py\", line 215, in show_balloon\n",
      "    shell_notify_icon(NIM_MODIFY, nid.pack())\n",
      "  File \"D:\\abu\\abupy\\UtilBu\\ABuWinUtil.py\", line 161, in pack\n",
      "    self.dwInfoFlags)\n",
      "struct.error: argument for 's' must be a bytes object\n",
      "建议直接从百度云下载教程中使用的csv格式美股，A股，港股，币类，期货6年日k数据: \n",
      "下载地址: https://pan.baidu.com/s/1geNZgqf\n",
      "提取密码: gvtr\n",
      "下载完成后解压zip得到'csv'文件夹到'C:\\Users\\huo\\abu\\data'目录下\n"
     ]
    }
   ],
   "source": [
    "import widget_update_ui\n",
    "widget_update_ui.show_ui()"
   ]
  },
  {
   "cell_type": "code",
   "execution_count": null,
   "metadata": {},
   "outputs": [],
   "source": []
  }
 ],
 "metadata": {
  "kernelspec": {
   "display_name": "Python 3",
   "language": "python",
   "name": "python3"
  },
  "language_info": {
   "codemirror_mode": {
    "name": "ipython",
    "version": 3
   },
   "file_extension": ".py",
   "mimetype": "text/x-python",
   "name": "python",
   "nbconvert_exporter": "python",
   "pygments_lexer": "ipython3",
   "version": "3.7.4"
  }
 },
 "nbformat": 4,
 "nbformat_minor": 2
}
